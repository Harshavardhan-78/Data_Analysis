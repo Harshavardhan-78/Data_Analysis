{
 "cells": [
  {
   "cell_type": "markdown",
   "id": "8f66c807",
   "metadata": {},
   "source": [
    "# Mini end-to-end: YouTube Top 100 Songs (2025)\n",
    "\n",
    "Goal: Load `youtube-top-100-songs-2025.csv`, perform EDA on views, duration, channels and basic visualizations."
   ]
  },
  {
   "cell_type": "markdown",
   "id": "df906dde",
   "metadata": {},
   "source": [
    "## 1. Import libraries"
   ]
  },
  {
   "cell_type": "code",
   "execution_count": 6,
   "id": "f9fb80b4",
   "metadata": {},
   "outputs": [],
   "source": [
    "import numpy as np\n",
    "import pandas as pd\n",
    "import matplotlib.pyplot as plt\n",
    "import seaborn as sns\n",
    "sns.set_theme(style=\"whitegrid\")"
   ]
  },
  {
   "cell_type": "markdown",
   "id": "c370fe71",
   "metadata": {},
   "source": [
    "**Insight:** The YouTube Top-100 dataset is 100 rows and 13 columns (full dataset).\n",
    "`tags` has 15 missing entries; other key columns are populated."
   ]
  },
  {
   "cell_type": "markdown",
   "id": "30f44eff",
   "metadata": {},
   "source": [
    "## 2. Load dataset"
   ]
  },
  {
   "cell_type": "code",
   "execution_count": 7,
   "id": "594f7a81",
   "metadata": {},
   "outputs": [
    {
     "data": {
      "text/html": [
       "<div>\n",
       "<style scoped>\n",
       "    .dataframe tbody tr th:only-of-type {\n",
       "        vertical-align: middle;\n",
       "    }\n",
       "\n",
       "    .dataframe tbody tr th {\n",
       "        vertical-align: top;\n",
       "    }\n",
       "\n",
       "    .dataframe thead th {\n",
       "        text-align: right;\n",
       "    }\n",
       "</style>\n",
       "<table border=\"1\" class=\"dataframe\">\n",
       "  <thead>\n",
       "    <tr style=\"text-align: right;\">\n",
       "      <th></th>\n",
       "      <th>title</th>\n",
       "      <th>fulltitle</th>\n",
       "      <th>description</th>\n",
       "      <th>view_count</th>\n",
       "      <th>categories</th>\n",
       "      <th>tags</th>\n",
       "      <th>duration</th>\n",
       "      <th>duration_string</th>\n",
       "      <th>live_status</th>\n",
       "      <th>thumbnail</th>\n",
       "      <th>channel</th>\n",
       "      <th>channel_url</th>\n",
       "      <th>channel_follower_count</th>\n",
       "    </tr>\n",
       "  </thead>\n",
       "  <tbody>\n",
       "    <tr>\n",
       "      <th>0</th>\n",
       "      <td>ROSÉ &amp; Bruno Mars - APT. (Official Music Video)</td>\n",
       "      <td>ROSÉ &amp; Bruno Mars - APT. (Official Music Video)</td>\n",
       "      <td>ROSÉ &amp; Bruno Mars - APT.\\nDownload/stream: ht...</td>\n",
       "      <td>2009014557</td>\n",
       "      <td>Music</td>\n",
       "      <td>YG Entertainment;YG;와이지;K-pop;BLACKPINK;블랙핑크;블...</td>\n",
       "      <td>173</td>\n",
       "      <td>2:53</td>\n",
       "      <td>False</td>\n",
       "      <td>https://i.ytimg.com/vi_webp/ekr2nIex040/maxres...</td>\n",
       "      <td>ROSÉ</td>\n",
       "      <td>https://www.youtube.com/channel/UCBo1hnzxV9rz3...</td>\n",
       "      <td>19200000</td>\n",
       "    </tr>\n",
       "    <tr>\n",
       "      <th>1</th>\n",
       "      <td>Lady Gaga, Bruno Mars - Die With A Smile (Offi...</td>\n",
       "      <td>Lady Gaga, Bruno Mars - Die With A Smile (Offi...</td>\n",
       "      <td>MAYHEM OUT NOW\\nhttp://ladygaga.com \\n \\nListe...</td>\n",
       "      <td>1324833300</td>\n",
       "      <td>Music</td>\n",
       "      <td>Lady Gaga;Bruno Mars;Interscope;Pop</td>\n",
       "      <td>252</td>\n",
       "      <td>4:12</td>\n",
       "      <td>False</td>\n",
       "      <td>https://i.ytimg.com/vi/kPa7bsKwL-c/maxresdefau...</td>\n",
       "      <td>Lady Gaga</td>\n",
       "      <td>https://www.youtube.com/channel/UC07Kxew-cMIay...</td>\n",
       "      <td>29600000</td>\n",
       "    </tr>\n",
       "    <tr>\n",
       "      <th>2</th>\n",
       "      <td>Reneé Rapp - Leave Me Alone (Official Music Vi...</td>\n",
       "      <td>Reneé Rapp - Leave Me Alone (Official Music Vi...</td>\n",
       "      <td>Listen to “BITE ME”, the new album from Reneé ...</td>\n",
       "      <td>2536628</td>\n",
       "      <td>Music</td>\n",
       "      <td>Reneé Rapp;Interscope Records;Pop</td>\n",
       "      <td>160</td>\n",
       "      <td>2:40</td>\n",
       "      <td>False</td>\n",
       "      <td>https://i.ytimg.com/vi/tiPWzFLiz4A/maxresdefau...</td>\n",
       "      <td>Reneé Rapp</td>\n",
       "      <td>https://www.youtube.com/channel/UCZy4ki_L4bzw9...</td>\n",
       "      <td>408000</td>\n",
       "    </tr>\n",
       "    <tr>\n",
       "      <th>3</th>\n",
       "      <td>Billie Eilish - BIRDS OF A FEATHER (Official M...</td>\n",
       "      <td>Billie Eilish - BIRDS OF A FEATHER (Official M...</td>\n",
       "      <td>Listen to HIT ME HARD AND SOFT: https://billie...</td>\n",
       "      <td>558329099</td>\n",
       "      <td>Music</td>\n",
       "      <td>Billie Eilish;Darkroom/Interscope Records;Alte...</td>\n",
       "      <td>231</td>\n",
       "      <td>3:51</td>\n",
       "      <td>False</td>\n",
       "      <td>https://i.ytimg.com/vi/V9PVRfjEBTI/maxresdefau...</td>\n",
       "      <td>Billie Eilish</td>\n",
       "      <td>https://www.youtube.com/channel/UCDGmojLIoWpXo...</td>\n",
       "      <td>56800000</td>\n",
       "    </tr>\n",
       "    <tr>\n",
       "      <th>4</th>\n",
       "      <td>Reneé Rapp - Mad (Official Music Video)</td>\n",
       "      <td>Reneé Rapp - Mad (Official Music Video)</td>\n",
       "      <td>Listen to “BITE ME”, the new album from Reneé ...</td>\n",
       "      <td>2113548</td>\n",
       "      <td>Music</td>\n",
       "      <td>Reneé Rapp;Interscope Records;Pop</td>\n",
       "      <td>180</td>\n",
       "      <td>3:00</td>\n",
       "      <td>False</td>\n",
       "      <td>https://i.ytimg.com/vi/xkWQM3flsiY/maxresdefau...</td>\n",
       "      <td>Reneé Rapp</td>\n",
       "      <td>https://www.youtube.com/channel/UCZy4ki_L4bzw9...</td>\n",
       "      <td>408000</td>\n",
       "    </tr>\n",
       "  </tbody>\n",
       "</table>\n",
       "</div>"
      ],
      "text/plain": [
       "                                               title  \\\n",
       "0   ROSÉ & Bruno Mars - APT. (Official Music Video)   \n",
       "1  Lady Gaga, Bruno Mars - Die With A Smile (Offi...   \n",
       "2  Reneé Rapp - Leave Me Alone (Official Music Vi...   \n",
       "3  Billie Eilish - BIRDS OF A FEATHER (Official M...   \n",
       "4            Reneé Rapp - Mad (Official Music Video)   \n",
       "\n",
       "                                           fulltitle  \\\n",
       "0   ROSÉ & Bruno Mars - APT. (Official Music Video)   \n",
       "1  Lady Gaga, Bruno Mars - Die With A Smile (Offi...   \n",
       "2  Reneé Rapp - Leave Me Alone (Official Music Vi...   \n",
       "3  Billie Eilish - BIRDS OF A FEATHER (Official M...   \n",
       "4            Reneé Rapp - Mad (Official Music Video)   \n",
       "\n",
       "                                         description  view_count categories  \\\n",
       "0  ROSÉ & Bruno Mars - APT.\\nDownload/stream: ht...  2009014557      Music   \n",
       "1  MAYHEM OUT NOW\\nhttp://ladygaga.com \\n \\nListe...  1324833300      Music   \n",
       "2  Listen to “BITE ME”, the new album from Reneé ...     2536628      Music   \n",
       "3  Listen to HIT ME HARD AND SOFT: https://billie...   558329099      Music   \n",
       "4  Listen to “BITE ME”, the new album from Reneé ...     2113548      Music   \n",
       "\n",
       "                                                tags  duration  \\\n",
       "0  YG Entertainment;YG;와이지;K-pop;BLACKPINK;블랙핑크;블...       173   \n",
       "1                Lady Gaga;Bruno Mars;Interscope;Pop       252   \n",
       "2                  Reneé Rapp;Interscope Records;Pop       160   \n",
       "3  Billie Eilish;Darkroom/Interscope Records;Alte...       231   \n",
       "4                  Reneé Rapp;Interscope Records;Pop       180   \n",
       "\n",
       "  duration_string  live_status  \\\n",
       "0            2:53        False   \n",
       "1            4:12        False   \n",
       "2            2:40        False   \n",
       "3            3:51        False   \n",
       "4            3:00        False   \n",
       "\n",
       "                                           thumbnail        channel  \\\n",
       "0  https://i.ytimg.com/vi_webp/ekr2nIex040/maxres...           ROSÉ   \n",
       "1  https://i.ytimg.com/vi/kPa7bsKwL-c/maxresdefau...      Lady Gaga   \n",
       "2  https://i.ytimg.com/vi/tiPWzFLiz4A/maxresdefau...     Reneé Rapp   \n",
       "3  https://i.ytimg.com/vi/V9PVRfjEBTI/maxresdefau...  Billie Eilish   \n",
       "4  https://i.ytimg.com/vi/xkWQM3flsiY/maxresdefau...     Reneé Rapp   \n",
       "\n",
       "                                         channel_url  channel_follower_count  \n",
       "0  https://www.youtube.com/channel/UCBo1hnzxV9rz3...                19200000  \n",
       "1  https://www.youtube.com/channel/UC07Kxew-cMIay...                29600000  \n",
       "2  https://www.youtube.com/channel/UCZy4ki_L4bzw9...                  408000  \n",
       "3  https://www.youtube.com/channel/UCDGmojLIoWpXo...                56800000  \n",
       "4  https://www.youtube.com/channel/UCZy4ki_L4bzw9...                  408000  "
      ]
     },
     "execution_count": 7,
     "metadata": {},
     "output_type": "execute_result"
    }
   ],
   "source": [
    "df = pd.read_csv('youtube-top-100-songs-2025.csv')\n",
    "df.head()"
   ]
  },
  {
   "cell_type": "markdown",
   "id": "55ea435e",
   "metadata": {},
   "source": [
    "**Insight:** Views (full data): mean ≈ 105,910,319, median ≈ 37,982,240, max = 2,009,014,557. High variance indicates that a few viral videos dominate total views.\n",
    "Duration (seconds): mean ≈ 203.9s, median ≈ 193.5s."
   ]
  },
  {
   "cell_type": "markdown",
   "id": "9239b406",
   "metadata": {},
   "source": [
    "## 3. Quick overview"
   ]
  },
  {
   "cell_type": "code",
   "execution_count": 8,
   "id": "174d7461",
   "metadata": {},
   "outputs": [
    {
     "name": "stdout",
     "output_type": "stream",
     "text": [
      "Shape: (100, 13)\n",
      "<class 'pandas.core.frame.DataFrame'>\n",
      "RangeIndex: 100 entries, 0 to 99\n",
      "Data columns (total 13 columns):\n",
      " #   Column                  Non-Null Count  Dtype \n",
      "---  ------                  --------------  ----- \n",
      " 0   title                   100 non-null    object\n",
      " 1   fulltitle               100 non-null    object\n",
      " 2   description             100 non-null    object\n",
      " 3   view_count              100 non-null    int64 \n",
      " 4   categories              100 non-null    object\n",
      " 5   tags                    85 non-null     object\n",
      " 6   duration                100 non-null    int64 \n",
      " 7   duration_string         100 non-null    object\n",
      " 8   live_status             100 non-null    bool  \n",
      " 9   thumbnail               100 non-null    object\n",
      " 10  channel                 100 non-null    object\n",
      " 11  channel_url             100 non-null    object\n",
      " 12  channel_follower_count  100 non-null    int64 \n",
      "dtypes: bool(1), int64(3), object(9)\n",
      "memory usage: 9.6+ KB\n",
      "None\n",
      "title                      0\n",
      "fulltitle                  0\n",
      "description                0\n",
      "view_count                 0\n",
      "categories                 0\n",
      "tags                      15\n",
      "duration                   0\n",
      "duration_string            0\n",
      "live_status                0\n",
      "thumbnail                  0\n",
      "channel                    0\n",
      "channel_url                0\n",
      "channel_follower_count     0\n",
      "dtype: int64\n",
      "                                                   title  \\\n",
      "count                                                100   \n",
      "unique                                               100   \n",
      "top     ROSÉ & Bruno Mars - APT. (Official Music Video)   \n",
      "freq                                                   1   \n",
      "mean                                                 NaN   \n",
      "std                                                  NaN   \n",
      "min                                                  NaN   \n",
      "25%                                                  NaN   \n",
      "50%                                                  NaN   \n",
      "75%                                                  NaN   \n",
      "max                                                  NaN   \n",
      "\n",
      "                                               fulltitle  \\\n",
      "count                                                100   \n",
      "unique                                               100   \n",
      "top     ROSÉ & Bruno Mars - APT. (Official Music Video)   \n",
      "freq                                                   1   \n",
      "mean                                                 NaN   \n",
      "std                                                  NaN   \n",
      "min                                                  NaN   \n",
      "25%                                                  NaN   \n",
      "50%                                                  NaN   \n",
      "75%                                                  NaN   \n",
      "max                                                  NaN   \n",
      "\n",
      "                                              description    view_count  \\\n",
      "count                                                 100  1.000000e+02   \n",
      "unique                                                100           NaN   \n",
      "top     ROSÉ & Bruno Mars - APT.\\nDownload/stream: ht...           NaN   \n",
      "freq                                                    1           NaN   \n",
      "mean                                                  NaN  1.059103e+08   \n",
      "std                                                   NaN  2.491132e+08   \n",
      "min                                                   NaN  1.161000e+03   \n",
      "25%                                                   NaN  1.852702e+07   \n",
      "50%                                                   NaN  3.798224e+07   \n",
      "75%                                                   NaN  1.111073e+08   \n",
      "max                                                   NaN  2.009015e+09   \n",
      "\n",
      "       categories                                  tags    duration  \\\n",
      "count         100                                    85  100.000000   \n",
      "unique          2                                    76         NaN   \n",
      "top         Music  Sabrina Carpenter;Island Records;Pop         NaN   \n",
      "freq           94                                     5         NaN   \n",
      "mean          NaN                                   NaN  203.900000   \n",
      "std           NaN                                   NaN   44.260592   \n",
      "min           NaN                                   NaN  120.000000   \n",
      "25%           NaN                                   NaN  173.000000   \n",
      "50%           NaN                                   NaN  193.500000   \n",
      "75%           NaN                                   NaN  231.750000   \n",
      "max           NaN                                   NaN  354.000000   \n",
      "\n",
      "       duration_string live_status  \\\n",
      "count              100         100   \n",
      "unique              69           1   \n",
      "top               4:12       False   \n",
      "freq                 3         100   \n",
      "mean               NaN         NaN   \n",
      "std                NaN         NaN   \n",
      "min                NaN         NaN   \n",
      "25%                NaN         NaN   \n",
      "50%                NaN         NaN   \n",
      "75%                NaN         NaN   \n",
      "max                NaN         NaN   \n",
      "\n",
      "                                                thumbnail            channel  \\\n",
      "count                                                 100                100   \n",
      "unique                                                100                 65   \n",
      "top     https://i.ytimg.com/vi_webp/ekr2nIex040/maxres...  Sabrina Carpenter   \n",
      "freq                                                    1                  7   \n",
      "mean                                                  NaN                NaN   \n",
      "std                                                   NaN                NaN   \n",
      "min                                                   NaN                NaN   \n",
      "25%                                                   NaN                NaN   \n",
      "50%                                                   NaN                NaN   \n",
      "75%                                                   NaN                NaN   \n",
      "max                                                   NaN                NaN   \n",
      "\n",
      "                                              channel_url  \\\n",
      "count                                                 100   \n",
      "unique                                                 69   \n",
      "top     https://www.youtube.com/channel/UC4mYKePIas5Yg...   \n",
      "freq                                                    7   \n",
      "mean                                                  NaN   \n",
      "std                                                   NaN   \n",
      "min                                                   NaN   \n",
      "25%                                                   NaN   \n",
      "50%                                                   NaN   \n",
      "75%                                                   NaN   \n",
      "max                                                   NaN   \n",
      "\n",
      "        channel_follower_count  \n",
      "count             1.000000e+02  \n",
      "unique                     NaN  \n",
      "top                        NaN  \n",
      "freq                       NaN  \n",
      "mean              1.612067e+07  \n",
      "std               1.980038e+07  \n",
      "min               1.000000e+00  \n",
      "25%               6.132500e+05  \n",
      "50%               6.320000e+06  \n",
      "75%               2.760000e+07  \n",
      "max               7.620000e+07  \n"
     ]
    }
   ],
   "source": [
    "print('Shape:', df.shape)\n",
    "print(df.info())\n",
    "print(df.isnull().sum())\n",
    "print(df.describe(include='all'))"
   ]
  },
  {
   "cell_type": "markdown",
   "id": "a9756390",
   "metadata": {},
   "source": [
    "**Insight:** Shows dataset size, types, missingness and overall statistics.\n",
    "This helps validate that `view_count` and `duration_string` exist and if any cleaning is required."
   ]
  },
  {
   "cell_type": "markdown",
   "id": "78fcf93e",
   "metadata": {},
   "source": [
    "## 4. Tidy durations and views"
   ]
  },
  {
   "cell_type": "code",
   "execution_count": 9,
   "id": "b7f8c18e",
   "metadata": {},
   "outputs": [
    {
     "name": "stdout",
     "output_type": "stream",
     "text": [
      "                                               title  view_count  \\\n",
      "0   ROSÉ & Bruno Mars - APT. (Official Music Video)  2009014557   \n",
      "1  Lady Gaga, Bruno Mars - Die With A Smile (Offi...  1324833300   \n",
      "2  Reneé Rapp - Leave Me Alone (Official Music Vi...     2536628   \n",
      "3  Billie Eilish - BIRDS OF A FEATHER (Official M...   558329099   \n",
      "4            Reneé Rapp - Mad (Official Music Video)     2113548   \n",
      "\n",
      "  duration_string  duration_secs  \n",
      "0            2:53          173.0  \n",
      "1            4:12          252.0  \n",
      "2            2:40          160.0  \n",
      "3            3:51          231.0  \n",
      "4            3:00          180.0  \n"
     ]
    }
   ],
   "source": [
    "# Ensure numeric view counts\n",
    "df['view_count'] = pd.to_numeric(df['view_count'], errors='coerce')\n",
    "# Duration string may be seconds or '2:53' - try to convert common formats\n",
    "def parse_duration(x):\n",
    "    try:\n",
    "        if isinstance(x, (int,float)):\n",
    "            return x\n",
    "        s = str(x)\n",
    "        if ':' in s:\n",
    "            parts = s.split(':')\n",
    "            parts = [float(p) for p in parts]\n",
    "            if len(parts)==2:\n",
    "                return parts[0]*60 + parts[1]\n",
    "            if len(parts)==3:\n",
    "                return parts[0]*3600 + parts[1]*60 + parts[2]\n",
    "        return float(s)\n",
    "    except Exception:\n",
    "        return np.nan\n",
    "df['duration_secs'] = df['duration_string'].apply(parse_duration)\n",
    "print(df[['title','view_count','duration_string','duration_secs']].head())"
   ]
  },
  {
   "cell_type": "markdown",
   "id": "188bc568",
   "metadata": {},
   "source": [
    "**Insight:** Converts `view_count` to numeric and parses duration strings into seconds.\n",
    "This enables numerical analysis of popularity and duration-based comparisons.\n",
    "**Insight:** Top channels (sample): Sabrina Carpenter (7 videos), Tate McRae (4), ROSÉ (3), Billie Eilish (3), Lady Gaga (3), JENNIE (3), The Weeknd (3), David Guetta (3), Kendrick Lamar (3), LLOUD Official (2).\n",
    "Channel-level aggregation will capture repeat appearances from the same artists."
   ]
  },
  {
   "cell_type": "markdown",
   "id": "ab67ba2e",
   "metadata": {},
   "source": [
    "## 5. Analysis"
   ]
  },
  {
   "cell_type": "code",
   "execution_count": 10,
   "id": "dc133720",
   "metadata": {},
   "outputs": [
    {
     "name": "stdout",
     "output_type": "stream",
     "text": [
      "           channel  channel_follower_count\n",
      "80   Justin Bieber                76200000\n",
      "61    Taylor Swift                61500000\n",
      "7       Ed Sheeran                58500000\n",
      "3    Billie Eilish                56800000\n",
      "90   Ariana Grande                56400000\n",
      "45      The Weeknd                38700000\n",
      "57        Maroon 5                37800000\n",
      "93    Selena Gomez                35500000\n",
      "79  ImagineDragons                32900000\n",
      "48           Drake                31500000\n",
      "Top songs by views:\n",
      "                                                title            channel  \\\n",
      "0    ROSÉ & Bruno Mars - APT. (Official Music Video)               ROSÉ   \n",
      "1   Lady Gaga, Bruno Mars - Die With A Smile (Offi...          Lady Gaga   \n",
      "3   Billie Eilish - BIRDS OF A FEATHER (Official M...      Billie Eilish   \n",
      "5                        Sabrina Carpenter - Espresso  Sabrina Carpenter   \n",
      "14                       Kendrick Lamar - Not Like Us     Kendrick Lamar   \n",
      "13  Shaboozey - A Bar Song (Tipsy) [Official Visua...          Shaboozey   \n",
      "20           Sabrina Carpenter - Please Please Please  Sabrina Carpenter   \n",
      "32  SEVDALIZA - ALIBI FT. PABLLO VITTAR & YSEULT (...          Sevdaliza   \n",
      "28         Sabrina Carpenter - Taste (Official Video)  Sabrina Carpenter   \n",
      "29  Post Malone - I Had Some Help (feat. Morgan Wa...        Post Malone   \n",
      "\n",
      "    view_count  \n",
      "0   2009014557  \n",
      "1   1324833300  \n",
      "3    558329099  \n",
      "5    472570966  \n",
      "14   397228595  \n",
      "13   288277902  \n",
      "20   253618903  \n",
      "32   236500879  \n",
      "28   210275500  \n",
      "29   209840684  \n",
      "Duration stats:\n",
      "count    100.000000\n",
      "mean     203.900000\n",
      "std       44.260592\n",
      "min      120.000000\n",
      "25%      173.000000\n",
      "50%      193.500000\n",
      "75%      231.750000\n",
      "max      354.000000\n",
      "Name: duration_secs, dtype: float64\n"
     ]
    }
   ],
   "source": [
    "# Top channels by follower count\n",
    "print(df[['channel','channel_follower_count']].drop_duplicates().sort_values('channel_follower_count', ascending=False).head(10))\n",
    "# Top songs by views\n",
    "print('Top songs by views:')\n",
    "print(df.sort_values('view_count', ascending=False)[['title','channel','view_count']].head(10))\n",
    "print('Duration stats:')\n",
    "print(df['duration_secs'].describe())"
   ]
  },
  {
   "cell_type": "markdown",
   "id": "ee1a8c67",
   "metadata": {},
   "source": [
    "**Insight:** Lists top channels and top songs by views and summarizes durations.\n",
    "Use this to identify outliers in views and to understand typical track lengths in the Top100."
   ]
  },
  {
   "cell_type": "markdown",
   "id": "3633f62a",
   "metadata": {},
   "source": [
    "## 6. Visualizations"
   ]
  },
  {
   "cell_type": "code",
   "execution_count": 11,
   "id": "5342a7bd",
   "metadata": {},
   "outputs": [
    {
     "data": {
      "image/png": "[encoded data removed]",
      "text/plain": [
       "<Figure size 1000x400 with 1 Axes>"
      ]
     },
     "metadata": {},
     "output_type": "display_data"
    },
    {
     "data": {
      "image/png": "[encoded data removed]",
      "text/plain": [
       "<Figure size 1000x400 with 1 Axes>"
      ]
     },
     "metadata": {},
     "output_type": "display_data"
    },
    {
     "data": {
      "image/png": "[encoded data removed]",
      "text/plain": [
       "<Figure size 800x500 with 1 Axes>"
      ]
     },
     "metadata": {},
     "output_type": "display_data"
    }
   ],
   "source": [
    "plt.figure(figsize=(10,4))\n",
    "sns.histplot(df['view_count'].dropna(), bins=30, color='skyblue')\n",
    "plt.title('Distribution of View Counts')\n",
    "plt.show()\n",
    "\n",
    "plt.figure(figsize=(10,4))\n",
    "sns.histplot(df['duration_secs'].dropna(), bins=20, color='orange')\n",
    "plt.title('Distribution of Durations (secs)')\n",
    "plt.show()\n",
    "\n",
    "# Top channels by number of songs in top100\n",
    "plt.figure(figsize=(8,5))\n",
    "sns.countplot(y='channel', data=df, order=df['channel'].value_counts().index[:10])\n",
    "plt.title('Top Channels in Top100')\n",
    "plt.show()"
   ]
  },
  {
   "cell_type": "markdown",
   "id": "3fa693a7",
   "metadata": {},
   "source": [
    "**Insight:** Visualizations show view count distribution (consider log-scale for plotting), duration distribution, and the most frequent channels in the Top100.\n",
    "These plots are useful for spotting heavy-tailed distributions and channel dominance."
   ]
  },
  {
   "cell_type": "markdown",
   "id": "6231caa6",
   "metadata": {},
   "source": [
    "## 7. Save cleaned sample"
   ]
  },
  {
   "cell_type": "code",
   "execution_count": 12,
   "id": "6b2d4a5b",
   "metadata": {},
   "outputs": [
    {
     "name": "stdout",
     "output_type": "stream",
     "text": [
      "Saved cleaned sample to youtube_top100_cleaned_sample.csv\n"
     ]
    }
   ],
   "source": [
    "df.to_csv('youtube_top100_cleaned_sample.csv', index=False)\n",
    "print('Saved cleaned sample to youtube_top100_cleaned_sample.csv')"
   ]
  },
  {
   "cell_type": "markdown",
   "id": "204ecfab",
   "metadata": {},
   "source": [
    "**Insight:** Saves the cleaned Top100 dataset for quick reuse and sharing."
   ]
  }
 ],
 "metadata": {
  "kernelspec": {
   "display_name": "Python 3",
   "language": "python",
   "name": "python3"
  },
  "language_info": {
   "codemirror_mode": {
    "name": "ipython",
    "version": 3
   },
   "file_extension": ".py",
   "mimetype": "text/x-python",
   "name": "python",
   "nbconvert_exporter": "python",
   "pygments_lexer": "ipython3",
   "version": "3.13.5"
  }
 },
 "nbformat": 4,
 "nbformat_minor": 5
}
