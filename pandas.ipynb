{
 "cells": [
  {
   "cell_type": "markdown",
   "id": "3c0359df",
   "metadata": {},
   "source": [
    "# Pandas – Data Analysis Library\n",
    "###  Why Learn Pandas?\n",
    "What is it?\n",
    "Pandas is a Python library for data manipulation and analysis. It provides Series (1D) and DataFrames (2D tabular data).\n",
    "### Why we need it?\n",
    "1.Simplifies data cleaning, exploration, and manipulation.\n",
    "\n",
    "2.Handles large datasets efficiently.\n",
    "\n",
    "3.Built on top of NumPy for fast computations.\n",
    "#### Where is it used?\n",
    "\n",
    "1.Data Analysis & Reporting\n",
    "2.Machine Learning (preprocessing datasets)\n",
    "3.Finance, Healthcare, Marketing data analysis\n",
    "4.CSV/Excel/SQL data handling"
   ]
  },
  {
   "cell_type": "markdown",
   "id": "7d11dad3",
   "metadata": {},
   "source": [
    "## 2. Importing Pandas\n",
    "\"import pandas as pd\"\n",
    " "
   ]
  },
  {
   "cell_type": "markdown",
   "id": "35a3b21d",
   "metadata": {},
   "source": []
  },
  {
   "cell_type": "code",
   "execution_count": 2,
   "id": "636be03a",
   "metadata": {},
   "outputs": [],
   "source": [
    "import pandas as pd"
   ]
  },
  {
   "cell_type": "markdown",
   "id": "3c66dc39",
   "metadata": {},
   "source": [
    "## 3.Series & DataFrames\n"
   ]
  },
  {
   "cell_type": "code",
   "execution_count": 3,
   "id": "846cd228",
   "metadata": {},
   "outputs": [
    {
     "name": "stdout",
     "output_type": "stream",
     "text": [
      "Series:\n",
      " 0    10\n",
      "1    20\n",
      "2    30\n",
      "3    40\n",
      "dtype: int64\n",
      "\n",
      "DataFrame:\n",
      "       Name  Age\n",
      "0    Alice   25\n",
      "1      Bob   30\n",
      "2  Charlie   35\n"
     ]
    }
   ],
   "source": [
    "s = pd.Series([10, 20, 30, 40]) \n",
    "print(\"Series:\\n\", s) \n",
    "data = {'Name': ['Alice','Bob','Charlie'], 'Age':[25,30,35]} \n",
    "df = pd.DataFrame(data) \n",
    "print(\"\\nDataFrame:\\n\", df)"
   ]
  },
  {
   "cell_type": "markdown",
   "id": "ef7bb168",
   "metadata": {},
   "source": [
    "## Reading and Exploring the data\n",
    " Read CSV (replace with your file path)\n",
    "#df = pd.read_csv(\"titanic.csv\")\n",
    " \n",
    "#xample DataFrame\n",
    "data = {'Name':['Alice','Bob','Charlie'],'Age':[25,30,35],'Sex':['F','M','M']}\n",
    "df = pd.DataFrame(data)\n",
    " \n",
    "#Explore\n",
    "print(df.head())\n",
    "print(df.tail())\n",
    "print(df.info())\n",
    "print(df.describe())\n",
    "print(df.shape)"
   ]
  },
  {
   "cell_type": "code",
   "execution_count": 11,
   "id": "67c51f24",
   "metadata": {},
   "outputs": [
    {
     "name": "stdout",
     "output_type": "stream",
     "text": [
      "      Name  Age Sex\n",
      "0    Alice   25   F\n",
      "1      Bob   30   M\n",
      "2  Charlie   35   M\n",
      "      Name  Age Sex\n",
      "0    Alice   25   F\n",
      "1      Bob   30   M\n",
      "2  Charlie   35   M\n",
      "<class 'pandas.core.frame.DataFrame'>\n",
      "RangeIndex: 3 entries, 0 to 2\n",
      "Data columns (total 3 columns):\n",
      " #   Column  Non-Null Count  Dtype \n",
      "---  ------  --------------  ----- \n",
      " 0   Name    3 non-null      object\n",
      " 1   Age     3 non-null      int64 \n",
      " 2   Sex     3 non-null      object\n",
      "dtypes: int64(1), object(2)\n",
      "memory usage: 204.0+ bytes\n",
      "None\n",
      "        Age\n",
      "count   3.0\n",
      "mean   30.0\n",
      "std     5.0\n",
      "min    25.0\n",
      "25%    27.5\n",
      "50%    30.0\n",
      "75%    32.5\n",
      "max    35.0\n",
      "(3, 3)\n"
     ]
    }
   ],
   "source": [
    "# Example DataFrame\n",
    "data = {'Name':['Alice','Bob','Charlie'],'Age':[25,30,35],'Sex':['F','M','M']}\n",
    "df = pd.DataFrame(data)\n",
    " \n",
    "# Explore\n",
    "print(df.head())\n",
    "print(df.tail())\n",
    "print(df.info())\n",
    "print(df.describe())\n",
    "print(df.shape)"
   ]
  },
  {
   "cell_type": "markdown",
   "id": "c3708c09",
   "metadata": {},
   "source": [
    "## 5.Selecting columns and rows"
   ]
  },
  {
   "cell_type": "code",
   "execution_count": 16,
   "id": "daf2e50c",
   "metadata": {},
   "outputs": [
    {
     "name": "stdout",
     "output_type": "stream",
     "text": [
      "0      Alice\n",
      "1        Bob\n",
      "2    Charlie\n",
      "Name: Name, dtype: object\n",
      "      Name  Age\n",
      "0    Alice   25\n",
      "1      Bob   30\n",
      "2  Charlie   35\n",
      "\n",
      "Name    Alice\n",
      "Age        25\n",
      "Sex         F\n",
      "Name: 0, dtype: object\n",
      "\n",
      "Name    Alice\n",
      "Age        25\n",
      "Sex         F\n",
      "Name: 0, dtype: object\n",
      "\n",
      "    Name Sex\n",
      "0  Alice   F\n",
      "1    Bob   M\n"
     ]
    }
   ],
   "source": [
    "print(df['Name'])\n",
    " \n",
    "# Select multiple columns\n",
    "print(df[['Name','Age']])\n",
    "print()  \n",
    "# Select row by index\n",
    "print(df.iloc[0])  \n",
    "print()     # first row\n",
    "print(df.loc[0])        # first row using label\n",
    "print()  \n",
    "# Select subset of rows and columns\n",
    "print(df.loc[0:1, ['Name','Sex']])"
   ]
  },
  {
   "cell_type": "markdown",
   "id": "f5d3a8f5",
   "metadata": {},
   "source": [
    "## 6. Filtering & Sorting\n"
   ]
  },
  {
   "cell_type": "code",
   "execution_count": 17,
   "id": "fcc7e532",
   "metadata": {},
   "outputs": [
    {
     "name": "stdout",
     "output_type": "stream",
     "text": [
      "      Name  Age Sex\n",
      "1      Bob   30   M\n",
      "2  Charlie   35   M\n",
      "\n",
      "      Name  Age Sex\n",
      "2  Charlie   35   M\n",
      "1      Bob   30   M\n",
      "0    Alice   25   F\n"
     ]
    }
   ],
   "source": [
    "\n",
    "print(df[df['Age'] > 28])\n",
    " \n",
    "print()\n",
    "print(df.sort_values('Age', ascending=False))"
   ]
  },
  {
   "cell_type": "markdown",
   "id": "6de66fd3",
   "metadata": {},
   "source": [
    "## 7. Adding & Removing Columns\n",
    "\n",
    " \n",
    " "
   ]
  },
  {
   "cell_type": "code",
   "execution_count": 18,
   "id": "951b3a18",
   "metadata": {},
   "outputs": [
    {
     "name": "stdout",
     "output_type": "stream",
     "text": [
      "      Name  Age Sex  Age_in_5yrs\n",
      "0    Alice   25   F           30\n",
      "1      Bob   30   M           35\n",
      "2  Charlie   35   M           40\n",
      "      Name  Age Sex\n",
      "0    Alice   25   F\n",
      "1      Bob   30   M\n",
      "2  Charlie   35   M\n"
     ]
    }
   ],
   "source": [
    "\n",
    "df['Age_in_5yrs'] = df['Age'] + 5\n",
    "print(df)\n",
    "\n",
    "df = df.drop('Age_in_5yrs', axis=1)\n",
    "print(df)"
   ]
  },
  {
   "cell_type": "markdown",
   "id": "ede4e992",
   "metadata": {},
   "source": [
    "## 8. GroupBy & Aggregation\n"
   ]
  },
  {
   "cell_type": "code",
   "execution_count": 19,
   "id": "43627fc9",
   "metadata": {},
   "outputs": [
    {
     "name": "stdout",
     "output_type": "stream",
     "text": [
      "         Score\n",
      "Name          \n",
      "Alice     82.5\n",
      "Bob       80.0\n",
      "Charlie   95.0\n"
     ]
    }
   ],
   "source": [
    "data = {'Name':['Alice','Bob','Charlie','Alice','Bob'],\n",
    "        'Score':[85,90,95,80,70]}\n",
    "df = pd.DataFrame(data)\n",
    "\n",
    "grouped = df.groupby('Name').mean()\n",
    "print(grouped)"
   ]
  },
  {
   "cell_type": "markdown",
   "id": "2968b149",
   "metadata": {},
   "source": [
    "## 9. Handling Missing Data\n"
   ]
  },
  {
   "cell_type": "code",
   "execution_count": 29,
   "id": "851fd133",
   "metadata": {},
   "outputs": [
    {
     "name": "stdout",
     "output_type": "stream",
     "text": [
      "      Name   Age\n",
      "0    Alice  25.0\n",
      "1      Bob   NaN\n",
      "2  Charlie  35.0\n",
      "3    David  40.0\n",
      "\n",
      "filling with mean\n",
      "      Name        Age\n",
      "0    Alice  25.000000\n",
      "1      Bob  33.333333\n",
      "2  Charlie  35.000000\n",
      "3    David  40.000000\n"
     ]
    }
   ],
   "source": [
    "data = {'Name':['Alice','Bob','Charlie','David'],\n",
    "        'Age':[25, None, 35, 40]}\n",
    "df = pd.DataFrame(data)\n",
    "print(df)\n",
    "print()\n",
    "print(\"filling with mean\")\n",
    "df['Age'] = df['Age'].fillna(df['Age'].mean())\n",
    "print(df)\n"
   ]
  },
  {
   "cell_type": "code",
   "execution_count": 27,
   "id": "795dc985",
   "metadata": {},
   "outputs": [
    {
     "name": "stdout",
     "output_type": "stream",
     "text": [
      "original\n",
      "      Name   Age\n",
      "0    Alice  25.0\n",
      "1      Bob   NaN\n",
      "2  Charlie  35.0\n",
      "3    David  40.0\n",
      "\n",
      "after dropping Nan\n",
      "      Name   Age\n",
      "0    Alice  25.0\n",
      "2  Charlie  35.0\n",
      "3    David  40.0\n"
     ]
    }
   ],
   "source": [
    "data = {'Name':['Alice','Bob','Charlie','David'],\n",
    "        'Age':[25, None, 35, 40]}\n",
    "df = pd.DataFrame(data)\n",
    "print(\"original\")\n",
    "print(df)\n",
    "print()\n",
    "df = df.dropna()\n",
    "print(\"after dropping Nan\")\n",
    "print(df)"
   ]
  },
  {
   "cell_type": "code",
   "execution_count": null,
   "id": "f013ea99",
   "metadata": {},
   "outputs": [],
   "source": []
  }
 ],
 "metadata": {
  "kernelspec": {
   "display_name": "base",
   "language": "python",
   "name": "python3"
  },
  "language_info": {
   "codemirror_mode": {
    "name": "ipython",
    "version": 3
   },
   "file_extension": ".py",
   "mimetype": "text/x-python",
   "name": "python",
   "nbconvert_exporter": "python",
   "pygments_lexer": "ipython3",
   "version": "3.13.5"
  }
 },
 "nbformat": 4,
 "nbformat_minor": 5
}
